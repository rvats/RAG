{
 "cells": [
  {
   "cell_type": "markdown",
   "id": "02eb03c0-7743-482a-9ac0-8586938a2a1d",
   "metadata": {},
   "source": [
    "# Introduction to RAG Architecture using Azure OpenAI Services\n",
    "## Tutorial: Explore Azure OpenAI Service embeddings and document search\n",
    "To get started with a Jupyter notebook that utilizes Azure Cognitive Search to query documents stored in Azure Blob Storage, you'll need a couple of things:\n",
    "\n",
    "Azure Subscription: Make sure you have access to an Azure subscription.\n",
    "Azure Cognitive Search Service: Set up a Cognitive Search service.\n",
    "Blob Storage: Have a container with documents uploaded in Azure Blob Storage.\n",
    "Python SDKs: Install necessary Python SDKs, such as azure-search-documents.\n",
    "Here's a step-by-step guide with code snippets to help you set up a Jupyter notebook:\n",
    "\n",
    "### Step 1: Install Required Python Packages\n",
    "Install the required SDKs using pip:"
   ]
  },
  {
   "cell_type": "code",
   "execution_count": null,
   "id": "0be69606-a1d2-47d3-a7a4-3578cb4ee7b2",
   "metadata": {},
   "outputs": [],
   "source": [
    "pip install azure-search-documents azure-identity"
   ]
  },
  {
   "cell_type": "markdown",
   "id": "bc57ebf2-9c2d-4ecc-a9d8-b8ff5e700622",
   "metadata": {},
   "source": [
    "### Step 2: Initialize the Notebook and Setup Imports\n",
    "In the first cell of your notebook, import the relevant libraries:"
   ]
  },
  {
   "cell_type": "code",
   "execution_count": null,
   "id": "1a64567a-8fb8-4ff3-b17d-6ff8c8afac22",
   "metadata": {},
   "outputs": [],
   "source": [
    "from azure.search.documents import SearchClient\n",
    "from azure.core.credentials import AzureKeyCredential\n",
    "from azure.identity import DefaultAzureCredential\n",
    "import os"
   ]
  },
  {
   "cell_type": "markdown",
   "id": "a2f64ec3-af74-4bc8-a2cd-f6c2dc1c5538",
   "metadata": {},
   "source": [
    "### Step 3: Configure Environment Variables\n",
    "Add your Azure credentials and search service information:"
   ]
  },
  {
   "cell_type": "code",
   "execution_count": null,
   "id": "8744118b-7348-4148-9d0d-865fabd7af11",
   "metadata": {},
   "outputs": [],
   "source": [
    "# Replace these with your actual values\n",
    "SEARCH_ENDPOINT = \"https://<your-search-service-name>.search.windows.net\"\n",
    "SEARCH_KEY = \"<your-search-service-admin-key>\"\n",
    "SEARCH_INDEX = \"<your-index-name>\"\n",
    "\n",
    "# Setup a search client\n",
    "search_client = SearchClient(endpoint=SEARCH_ENDPOINT,\n",
    "                             index_name=SEARCH_INDEX,\n",
    "                             credential=AzureKeyCredential(SEARCH_KEY))"
   ]
  },
  {
   "cell_type": "markdown",
   "id": "7259f1de-fa3e-4f87-bd51-9e4dc2b44b38",
   "metadata": {},
   "source": [
    "### Step 4: Define a Function to Query the Index\n",
    "Create a function that queries the index:"
   ]
  },
  {
   "cell_type": "code",
   "execution_count": null,
   "id": "76dc1b5d-614d-4245-947b-850cc5fe0ce1",
   "metadata": {},
   "outputs": [],
   "source": [
    "def search_documents(query: str):\n",
    "    results = search_client.search(query)\n",
    "    for result in results:\n",
    "        print(f\"Document ID: {result['id']}\")\n",
    "        print(result)\n",
    "        print(\"\\n\")"
   ]
  },
  {
   "cell_type": "markdown",
   "id": "50ff5c6f-06c9-4335-b13f-ec03b26553b1",
   "metadata": {},
   "source": [
    "### Step 5: Query the Search Index with Different Prompts\n",
    "Now, you can use your search function to query the documents based on different prompts:"
   ]
  },
  {
   "cell_type": "code",
   "execution_count": null,
   "id": "047c2902-7008-4531-a930-ff1e9374ced8",
   "metadata": {},
   "outputs": [],
   "source": [
    "# Example queries\n",
    "search_documents(\"azure blob storage\")\n",
    "search_documents(\"cognitive search\")"
   ]
  },
  {
   "cell_type": "markdown",
   "id": "7e7c39a8-a1a7-4d99-9232-662bfb5aa6fc",
   "metadata": {},
   "source": [
    "### Conclusion:\n",
    "This notebook provides a basic framework for querying documents in Azure Blob Storage via Azure Cognitive Search. Make sure your search index is set up with the appropriate schema and indexing settings to enable efficient searches across your documents."
   ]
  },
  {
   "cell_type": "code",
   "execution_count": null,
   "id": "57aa6ce7-c321-4256-8d65-f9ad422afb86",
   "metadata": {},
   "outputs": [],
   "source": []
  }
 ],
 "metadata": {
  "kernelspec": {
   "display_name": "Python 3 (ipykernel)",
   "language": "python",
   "name": "python3"
  },
  "language_info": {
   "codemirror_mode": {
    "name": "ipython",
    "version": 3
   },
   "file_extension": ".py",
   "mimetype": "text/x-python",
   "name": "python",
   "nbconvert_exporter": "python",
   "pygments_lexer": "ipython3",
   "version": "3.12.2"
  }
 },
 "nbformat": 4,
 "nbformat_minor": 5
}
